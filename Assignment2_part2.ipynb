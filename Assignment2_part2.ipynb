{
 "cells": [
  {
   "cell_type": "code",
   "execution_count": 1,
   "metadata": {},
   "outputs": [],
   "source": [
    "import numpy as np\n",
    "import pandas as pd\n",
    "import os\n",
    "import git\n",
    "from git import RemoteProgress\n",
    "from git import Repo\n",
    "import matplotlib.pyplot as plt\n",
    "import seaborn as sns\n",
    "import datetime\n",
    "import re"
   ]
  },
  {
   "cell_type": "code",
   "execution_count": 2,
   "metadata": {},
   "outputs": [],
   "source": [
    "remote_link = \"https://github.com/spring-projects/spring-social\"\n",
    "local_link = \"spring-social\"\n",
    "\n",
    "repo = Repo(local_link)\n",
    "fixing_commit = \"5151e1158e1ed51369e7aba9e8092930d28c31d3\"\n",
    "affected_file = \"spring-social-core/src/main/java/org/springframework/social/support/ClientHttpRequestFactorySelector.java\"\n",
    "commit = repo.commit(fixing_commit)"
   ]
  },
  {
   "cell_type": "code",
   "execution_count": 3,
   "metadata": {},
   "outputs": [],
   "source": [
    "def check_latest_commit(start, end):\n",
    "    commits = {}\n",
    "    blames = repo.git.blame(\"-L\"+str(start)+\",\"+str(end), commit.parents[0], affected_file).splitlines()\n",
    "    latest_commit = None\n",
    "    latest_commit_time_obj = None\n",
    "    \n",
    "    for blame in blames:\n",
    "        words = blame.split()\n",
    "        commit_id = words[0]\n",
    "        \n",
    "        d = list(filter(re.compile(\"\\d*-\\d*-\\d*\").match, words))\n",
    "        t = list(filter(re.compile(\"\\d*:\\d*:\\d*\").match, words))\n",
    "        \n",
    "        time = d[0] +\" \"+ t[0]\n",
    "        \n",
    "        #print (time)\n",
    "        time_obj = datetime.datetime.strptime(time, '%Y-%m-%d %H:%M:%S')\n",
    "\n",
    "        if(latest_commit_time_obj == None):\n",
    "            latest_commit_time_obj = time_obj\n",
    "            latest_commit = commit_id\n",
    "            continue\n",
    "            \n",
    "        if(latest_commit_time_obj<time_obj):\n",
    "            latest_commit_time_obj = time_obj\n",
    "            latest_commit = commit_id\n",
    "        \n",
    "    return latest_commit"
   ]
  },
  {
   "cell_type": "code",
   "execution_count": 4,
   "metadata": {},
   "outputs": [
    {
     "name": "stdout",
     "output_type": "stream",
     "text": [
      "{'d3a8adac8': 21, '8e3f46ba7': 24, '2199cf84d': 10}\n",
      "VCC is 8e3f46ba7\n"
     ]
    }
   ],
   "source": [
    "# Task 3\n",
    "\n",
    "deleted_lines = [21, 22, 23, 24, 34, 117, 118, 119, 120, 121, 122, 123, 124, 126, 127, 128, 132, 133, 134, 135, 136, 137, 138, 139, 141]\n",
    "\n",
    "encloing_scope_for_added_lines_and_number_of_lines = [[1, 160, 1], [1, 160, 1], [1, 160, 1], [1, 160, 1],[1, 160, 1],[1, 160, 1],[1, 160, 1],[1, 160, 1],[1, 160, 1],[1, 160, 1], [122, 146, 2], [122, 146, 18]]\n",
    "\n",
    "commits = {}\n",
    "\n",
    "# count delete\n",
    "for line in deleted_lines:\n",
    "    blame = repo.git.blame(\"-L\"+str(line)+\",\"+str(line), commit.parents[0], affected_file).splitlines()\n",
    "    commit_id = blame[0].split()[0]\n",
    "    if commit_id in commits:\n",
    "        commits[commit_id] = commits[commit_id] + 1\n",
    "    else:\n",
    "        commits[commit_id] = 1\n",
    "        \n",
    "# count add\n",
    "for start, end, n in encloing_scope_for_added_lines_and_number_of_lines:\n",
    "    commit_id = check_latest_commit(start, end)\n",
    "    if commit_id in commits:\n",
    "        commits[commit_id] = commits[commit_id] + (n)\n",
    "    else:\n",
    "        commits[commit_id] = 1\n",
    "        \n",
    "print (commits)\n",
    "counter = 0\n",
    "VCC = None\n",
    "for i in commits:\n",
    "    if(commits[i]>counter):\n",
    "        counter = commits[i]\n",
    "        VCC = i\n",
    "    \n",
    "print (\"VCC is\", VCC)"
   ]
  },
  {
   "cell_type": "code",
   "execution_count": 5,
   "metadata": {},
   "outputs": [
    {
     "name": "stdout",
     "output_type": "stream",
     "text": [
      "Title:     Polish and add JavaDoc to all-trust pull request.\n",
      "Message: None\n"
     ]
    }
   ],
   "source": [
    "# Task 5\n",
    "commit_VCC = repo.commit(VCC)\n",
    "show = repo.git.show(\"--shortstat\", VCC, affected_file).splitlines()\n",
    "\n",
    "title = show[4]\n",
    "\n",
    "if(len(show)==7):\n",
    "    message = None\n",
    "else:\n",
    "    for i in range(len(show)-7):\n",
    "        message += show[5+i]\n",
    "\n",
    "print (\"Title:\", title)\n",
    "if message == None:\n",
    "    print (\"Message:\", \"None\")\n",
    "else:\n",
    "    print (\"Message:\", message)"
   ]
  },
  {
   "cell_type": "code",
   "execution_count": 6,
   "metadata": {},
   "outputs": [
    {
     "name": "stdout",
     "output_type": "stream",
     "text": [
      "1 affected files\n"
     ]
    }
   ],
   "source": [
    "summary = show[len(show)-1]\n",
    "numbers = re.findall(r'\\d+', summary)\n",
    "number_of_files_affected = numbers[0]\n",
    "print (number_of_files_affected, \"affected files\")\n",
    "#print(commit_VCC.stats.files)"
   ]
  },
  {
   "cell_type": "code",
   "execution_count": 7,
   "metadata": {},
   "outputs": [
    {
     "name": "stdout",
     "output_type": "stream",
     "text": [
      "1 affected directories\n"
     ]
    }
   ],
   "source": [
    "directories = []\n",
    "\n",
    "for file in commit_VCC.stats.files:\n",
    "    directories.append(file[:file.rfind('/')])\n",
    "    \n",
    "directories = set(directories)\n",
    "number_of_directories_affected = len(directories)\n",
    "print(number_of_directories_affected, \"affected directories\")"
   ]
  },
  {
   "cell_type": "code",
   "execution_count": 8,
   "metadata": {},
   "outputs": [
    {
     "name": "stdout",
     "output_type": "stream",
     "text": [
      "7 lines of code were deleted including comments and blank lines\n",
      "12 lines of code were added including comments and blank lines\n"
     ]
    }
   ],
   "source": [
    "print (numbers[2], \"lines of code were deleted including comments and blank lines\")\n",
    "print (numbers[1], \"lines of code were added including comments and blank lines\")"
   ]
  },
  {
   "cell_type": "code",
   "execution_count": 35,
   "metadata": {},
   "outputs": [
    {
     "name": "stdout",
     "output_type": "stream",
     "text": [
      "0 lines of code were deleted excluding comments and blank lines\n",
      "0 lines of code were added excluding comments and blank lines\n"
     ]
    }
   ],
   "source": [
    "diff = repo.git.diff(\"-w\", VCC + \"^\", VCC, affected_file).splitlines()\n",
    "\n",
    "add_counter = 0\n",
    "delete_counter = 0\n",
    "\n",
    "within_comment = False\n",
    "for line in diff:\n",
    "    \n",
    "    if(line[:3] == '+++' or line[:3] == \"---\"):\n",
    "        continue\n",
    "        \n",
    "    if(within_comment):\n",
    "        if(line.find('*/')!=-1):\n",
    "            within_comment = False\n",
    "        continue\n",
    "        \n",
    "    if(line[0]==\"+\" or line[0]==\"-\"):\n",
    "        if(line.find('/*')!=-1):\n",
    "            within_comment = True\n",
    "            continue\n",
    "        if(line[0]==\"+\"):\n",
    "            add_counter += 1\n",
    "        if(line[0]==\"-\"):\n",
    "            delete_counter += 1\n",
    "            \n",
    "print(delete_counter, \"lines of code were deleted excluding comments and blank lines\")\n",
    "print(add_counter, \"lines of code were added excluding comments and blank lines\")"
   ]
  },
  {
   "cell_type": "code",
   "execution_count": 70,
   "metadata": {},
   "outputs": [
    {
     "name": "stdout",
     "output_type": "stream",
     "text": [
      "spring-social-core/src/main/java/org/springframework/social/support/ClientHttpRequestFactorySelector.java :\n",
      "316 days, 1:00:55 were between the current VCC and the previous commit\n",
      "been modified 19 times in the past since creation\n",
      "{'Craig Walls': 10, 'Gim Gyung Jin': 2, 'Keith Donald': 5, 'Roy Clarkson': 2} have modified this file since its creation\n",
      "\n"
     ]
    }
   ],
   "source": [
    "words = show[2].split()\n",
    "\n",
    "VCC_time = words[5]+\" \"+words[2]+\" \"+words[3]+\" \"+words[4]\n",
    "VCC_time_obj = datetime.datetime.strptime(VCC_time, '%Y %b %d %H:%M:%S')\n",
    "\n",
    "for file in commit_VCC.stats.files:\n",
    "    log = repo.git.log(file).splitlines()\n",
    "    w = log[2].split()\n",
    "    file_time = w[5]+\" \"+w[2]+\" \"+w[3]+\" \"+w[4]\n",
    "    file_time_obj = datetime.datetime.strptime(file_time, '%Y %b %d %H:%M:%S')\n",
    "    \n",
    "    log_data = repo.git.log(\"--oneline\", \"--follow\",file).splitlines()\n",
    "    log_name_data = repo.git.log(\"--pretty=format:%an\", \"--follow\", file).splitlines()\n",
    "    del log_name_data[-1]\n",
    "    \n",
    "    log_name_data = {i:log_name_data.count(i) for i in log_name_data}\n",
    "    \n",
    "    print (file,\":\")\n",
    "    print (file_time_obj - VCC_time_obj, \"were between the current VCC and the previous commit\")\n",
    "    print (\"been modified\", len(log_data)-1, \"times in the past since creation\")\n",
    "    print (log_name_data, \"have modified this file since its creation\")\n",
    "    \n",
    "    print ()"
   ]
  },
  {
   "cell_type": "code",
   "execution_count": null,
   "metadata": {},
   "outputs": [],
   "source": []
  }
 ],
 "metadata": {
  "kernelspec": {
   "display_name": "Python 3.8.4 64-bit",
   "language": "python",
   "name": "python38464bit6d75bcd537974306ba18bfd0a85a726d"
  },
  "language_info": {
   "codemirror_mode": {
    "name": "ipython",
    "version": 3
   },
   "file_extension": ".py",
   "mimetype": "text/x-python",
   "name": "python",
   "nbconvert_exporter": "python",
   "pygments_lexer": "ipython3",
   "version": "3.8.5"
  }
 },
 "nbformat": 4,
 "nbformat_minor": 4
}
